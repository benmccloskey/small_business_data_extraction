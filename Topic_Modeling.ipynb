{
 "cells": [
  {
   "cell_type": "markdown",
   "metadata": {},
   "source": [
    "# Natural language processing analysis of online reviews for small business: extracting insight from small corpora\n",
    "\n",
    "## Text Analysis on Internet Reviews of Altomontes Italian Market\n",
    "\n",
    "Author: Benjamin McCloskey"
   ]
  },
  {
   "cell_type": "markdown",
   "metadata": {},
   "source": [
    "## Import Packages"
   ]
  },
  {
   "cell_type": "code",
   "execution_count": 74,
   "metadata": {},
   "outputs": [],
   "source": [
    "import pandas as pd\n",
    "import numpy as np\n",
    "import nltk\n",
    "from nltk import FreqDist, PorterStemmer\n",
    "from nltk.corpus import stopwords\n",
    "stop_words = stopwords.words('english')\n",
    "import re\n",
    "import matplotlib.pyplot as plt\n",
    "import seaborn as sns\n",
    "from nltk.tokenize import word_tokenize,sent_tokenize\n",
    "from gensim import corpora\n",
    "import gensim\n",
    "import spacy\n",
    "from gensim.models.coherencemodel import CoherenceModel\n",
    "from gensim.models import LdaMulticore\n",
    "from gensim import models\n",
    "import pprint\n",
    "import tqdm\n",
    "from wordcloud import WordCloud \n",
    "import warnings\n",
    "warnings.filterwarnings('ignore')"
   ]
  },
  {
   "cell_type": "markdown",
   "metadata": {},
   "source": [
    "## EDA"
   ]
  },
  {
   "cell_type": "code",
   "execution_count": 75,
   "metadata": {},
   "outputs": [
    {
     "name": "stdout",
     "output_type": "stream",
     "text": [
      "There are a total of  644  reviews.\n"
     ]
    },
    {
     "data": {
      "text/html": [
       "<div>\n",
       "<style scoped>\n",
       "    .dataframe tbody tr th:only-of-type {\n",
       "        vertical-align: middle;\n",
       "    }\n",
       "\n",
       "    .dataframe tbody tr th {\n",
       "        vertical-align: top;\n",
       "    }\n",
       "\n",
       "    .dataframe thead th {\n",
       "        text-align: right;\n",
       "    }\n",
       "</style>\n",
       "<table border=\"1\" class=\"dataframe\">\n",
       "  <thead>\n",
       "    <tr style=\"text-align: right;\">\n",
       "      <th></th>\n",
       "      <th>Month</th>\n",
       "      <th>Year</th>\n",
       "      <th>Review</th>\n",
       "      <th>Rating</th>\n",
       "      <th>Platform</th>\n",
       "    </tr>\n",
       "  </thead>\n",
       "  <tbody>\n",
       "    <tr>\n",
       "      <th>0</th>\n",
       "      <td>June</td>\n",
       "      <td>2021</td>\n",
       "      <td>Someone in the prep kitchen LOVES salt! The mu...</td>\n",
       "      <td>3</td>\n",
       "      <td>TripAdvisor</td>\n",
       "    </tr>\n",
       "    <tr>\n",
       "      <th>1</th>\n",
       "      <td>November</td>\n",
       "      <td>2020</td>\n",
       "      <td>Great looking store in Warminster but...just l...</td>\n",
       "      <td>1</td>\n",
       "      <td>TripAdvisor</td>\n",
       "    </tr>\n",
       "    <tr>\n",
       "      <th>2</th>\n",
       "      <td>February</td>\n",
       "      <td>2020</td>\n",
       "      <td>Always friendly workers very helpful and fresh...</td>\n",
       "      <td>5</td>\n",
       "      <td>TripAdvisor</td>\n",
       "    </tr>\n",
       "    <tr>\n",
       "      <th>3</th>\n",
       "      <td>February</td>\n",
       "      <td>2020</td>\n",
       "      <td>A local gem which also provides specialty Ital...</td>\n",
       "      <td>4</td>\n",
       "      <td>TripAdvisor</td>\n",
       "    </tr>\n",
       "    <tr>\n",
       "      <th>4</th>\n",
       "      <td>January</td>\n",
       "      <td>2020</td>\n",
       "      <td>Countless times I have ordered sandwiches from...</td>\n",
       "      <td>2</td>\n",
       "      <td>TripAdvisor</td>\n",
       "    </tr>\n",
       "  </tbody>\n",
       "</table>\n",
       "</div>"
      ],
      "text/plain": [
       "      Month  Year                                             Review  Rating  \\\n",
       "0     June   2021  Someone in the prep kitchen LOVES salt! The mu...       3   \n",
       "1  November  2020  Great looking store in Warminster but...just l...       1   \n",
       "2  February  2020  Always friendly workers very helpful and fresh...       5   \n",
       "3  February  2020  A local gem which also provides specialty Ital...       4   \n",
       "4   January  2020  Countless times I have ordered sandwiches from...       2   \n",
       "\n",
       "      Platform  \n",
       "0  TripAdvisor  \n",
       "1  TripAdvisor  \n",
       "2  TripAdvisor  \n",
       "3  TripAdvisor  \n",
       "4  TripAdvisor  "
      ]
     },
     "execution_count": 75,
     "metadata": {},
     "output_type": "execute_result"
    }
   ],
   "source": [
    "#Dataframe with all of the reviews\n",
    "df = pd.read_csv('Altomontes_reviews.csv')\n",
    "print(\"There are a total of \" , df.shape[0] ,\" reviews.\")\n",
    "df.head()"
   ]
  },
  {
   "cell_type": "code",
   "execution_count": 26,
   "metadata": {},
   "outputs": [
    {
     "name": "stdout",
     "output_type": "stream",
     "text": [
      "There are 215 reviews that come from Google Reivews .\n"
     ]
    }
   ],
   "source": [
    "#Dataframe with only Trip Advisor reviews\n",
    "df_GR=df[df.Platform == 'Google']\n",
    "df_GR = df_GR.reset_index() #Resetting the index to start at 0\n",
    "print(\"There are {0} reviews that come from {1} .\".format(df_GR.shape[0], 'Google Reivews'))"
   ]
  },
  {
   "cell_type": "code",
   "execution_count": 27,
   "metadata": {},
   "outputs": [
    {
     "name": "stdout",
     "output_type": "stream",
     "text": [
      "There are 253 reviews that come from the TripAdvisor Website.\n"
     ]
    }
   ],
   "source": [
    "#Dataframe with only Trip Advisor reviews\n",
    "df_TA=df[df.Platform == 'TripAdvisor']\n",
    "df_TA = df_TA.reset_index() #Resetting the index to start at 0\n",
    "print(\"There are {0} reviews that come from the {1} Website.\".format(df_TA.shape[0], 'TripAdvisor'))"
   ]
  },
  {
   "cell_type": "code",
   "execution_count": 28,
   "metadata": {},
   "outputs": [
    {
     "name": "stdout",
     "output_type": "stream",
     "text": [
      "There are 176 reviews that come from the Yelp Website.\n"
     ]
    }
   ],
   "source": [
    "#Yelp Review DataFrame\n",
    "df_yelp = df[df.Platform == 'Yelp']\n",
    "df_yelp = df_yelp.reset_index()\n",
    "print(\"There are {0} reviews that come from the {1} Website.\".format(df_yelp.shape[0], 'Yelp'))"
   ]
  },
  {
   "cell_type": "code",
   "execution_count": 29,
   "metadata": {},
   "outputs": [
    {
     "name": "stdout",
     "output_type": "stream",
     "text": [
      "Average Rating for All Online Reviews : 4.2313664596273295\n",
      "Average Rating for Yelp Reviews : 3.6363636363636362\n",
      "Average Rating for TripAdvisor Reviews 4.4940711462450595\n",
      "Average Rating for Google Reviews :  4.409302325581395\n"
     ]
    }
   ],
   "source": [
    "#Average Rating for the past 10 years\n",
    "#Overall\n",
    "print(\"Average Rating for All Online Reviews :\" ,df['Rating'].mean())\n",
    "print(\"Average Rating for Yelp Reviews :\", df_yelp['Rating'].mean())\n",
    "print(\"Average Rating for TripAdvisor Reviews\" , df_TA['Rating'].mean())\n",
    "print('Average Rating for Google Reviews : ', df_GR['Rating'].mean())"
   ]
  },
  {
   "cell_type": "markdown",
   "metadata": {},
   "source": [
    "# Review Analysis"
   ]
  },
  {
   "cell_type": "code",
   "execution_count": 30,
   "metadata": {},
   "outputs": [
    {
     "name": "stdout",
     "output_type": "stream",
     "text": [
      "Number of each Rating for all of the reviews\n"
     ]
    },
    {
     "data": {
      "text/plain": [
       "5    411\n",
       "4    101\n",
       "3     49\n",
       "1     47\n",
       "2     36\n",
       "Name: Rating, dtype: int64"
      ]
     },
     "execution_count": 30,
     "metadata": {},
     "output_type": "execute_result"
    }
   ],
   "source": [
    "print(\"Number of each Rating for all of the reviews\")\n",
    "df['Rating'].value_counts()"
   ]
  },
  {
   "cell_type": "code",
   "execution_count": 31,
   "metadata": {},
   "outputs": [
    {
     "data": {
      "image/png": "[encoded data removed]",
      "text/plain": [
       "<Figure size 432x288 with 1 Axes>"
      ]
     },
     "metadata": {
      "needs_background": "light"
     },
     "output_type": "display_data"
    }
   ],
   "source": [
    "ax = sns.barplot(data=df, x='Rating', y='Rating', estimator=lambda x: len(x) / len(df) * 100)\n",
    "ax.set(ylabel=\"Percent\")\n",
    "plt.title('Distribution of Customer Rating')\n",
    "plt.show()"
   ]
  },
  {
   "cell_type": "markdown",
   "metadata": {},
   "source": [
    "# Word Frequency"
   ]
  },
  {
   "cell_type": "code",
   "execution_count": 32,
   "metadata": {},
   "outputs": [],
   "source": [
    "# function to plot most frequent terms\n",
    "def frequent_words(x, terms = 30):\n",
    "    allwords = ' '.join([text for text in x])\n",
    "    allwords = allwords.split()\n",
    "\n",
    "    fdist = FreqDist(allwords)\n",
    "    words_df = pd.DataFrame({'word':list(fdist.keys()), 'count':list(fdist.values())})\n",
    "\n",
    "  # selecting top 20 most frequent words\n",
    "    d = words_df.nlargest(columns=\"count\", n = terms) \n",
    "    plt.figure(figsize=(20,5))\n",
    "    ax = sns.barplot(data=d, x= \"word\", y = \"count\")\n",
    "    ax.set(ylabel = 'Count')\n",
    "    plt.show()"
   ]
  },
  {
   "cell_type": "code",
   "execution_count": 33,
   "metadata": {},
   "outputs": [],
   "source": [
    "# remove unwanted characters, numbers and symbols\n",
    "df['Review'] = df['Review'].str.replace(\"[^a-zA-Z#]\", \" \")"
   ]
  },
  {
   "cell_type": "markdown",
   "metadata": {},
   "source": [
    "# Stopword Function"
   ]
  },
  {
   "cell_type": "code",
   "execution_count": 34,
   "metadata": {},
   "outputs": [],
   "source": [
    "def remove_stopwords(rev):\n",
    "    new_review = \" \".join([i for i in rev if i not in stop_words])\n",
    "    return new_review\n",
    "\n",
    "# remove short words (length < 3)\n",
    "df['Review'] = df['Review'].apply(lambda x: ' '.join([w for w in x.split() if len(w)>2]))\n",
    "\n",
    "# remove stopwords from the text\n",
    "Reviews = [remove_stopwords(r.split()) for r in df['Review']]\n",
    "\n",
    "# make entire text lowercase\n",
    "Reviews = [r.lower() for r in Reviews]"
   ]
  },
  {
   "cell_type": "markdown",
   "metadata": {},
   "source": [
    "# Lemmatization Function"
   ]
  },
  {
   "cell_type": "code",
   "execution_count": 35,
   "metadata": {},
   "outputs": [],
   "source": [
    "nlp =spacy.load('en_core_web_sm',disable=['parser','ner'])\n",
    "def lemmatization(texts, tags=['NOUN', 'ADJ']): # filter noun and adjective\n",
    "        output = []\n",
    "        for sent in texts:\n",
    "                doc = nlp(\" \".join(sent)) \n",
    "                output.append([token.lemma_ for token in doc if token.pos_ in tags])\n",
    "        return output"
   ]
  },
  {
   "cell_type": "markdown",
   "metadata": {},
   "source": [
    "# Lemmatizaton"
   ]
  },
  {
   "cell_type": "code",
   "execution_count": 15,
   "metadata": {},
   "outputs": [
    {
     "name": "stdout",
     "output_type": "stream",
     "text": [
      "['great', 'store', 'warminster', 'previous', 'reviewer', 'sandwich', 'order', 'big', 'time', 'live', 'minute', 'italian', 'hoagie', 'oil', 'vinegar', 'roast', 'pork', 'hoagie', 'tomato', 'different', 'beware', 'sandwich', 'order']\n"
     ]
    }
   ],
   "source": [
    "Lem_reviews = lemmatization(tokenized_Reviews)\n",
    "print(Lem_reviews[1])"
   ]
  },
  {
   "cell_type": "markdown",
   "metadata": {},
   "source": [
    "# Tokenization Function"
   ]
  },
  {
   "cell_type": "code",
   "execution_count": 14,
   "metadata": {},
   "outputs": [
    {
     "name": "stdout",
     "output_type": "stream",
     "text": [
      "['great', 'looking', 'store', 'warminster', 'like', 'previous', 'reviewer', 'stated', 'screwed', 'sandwich', 'order', 'big', 'time', 'live', 'minutes', 'away', 'like', 'could', 'return', 'easily', 'ordered', 'italian', 'hoagie', 'oil', 'vinegar', 'got', 'roast', 'pork', 'hoagie', 'tomatoes', 'loaded', 'mayo', 'completely', 'different', 'beware', 'sandwich', 'orders']\n"
     ]
    }
   ],
   "source": [
    "#Tokenization\n",
    "tokenized_Reviews = pd.Series(Reviews).apply(lambda x: x.split())\n",
    "print(tokenized_Reviews[1])"
   ]
  },
  {
   "cell_type": "markdown",
   "metadata": {},
   "source": [
    "# Final Cleaning"
   ]
  },
  {
   "cell_type": "code",
   "execution_count": 16,
   "metadata": {},
   "outputs": [
    {
     "data": {
      "image/png": "[encoded data removed]",
      "text/plain": [
       "<Figure size 1440x360 with 1 Axes>"
      ]
     },
     "metadata": {
      "needs_background": "light"
     },
     "output_type": "display_data"
    }
   ],
   "source": [
    "reviews_cleaned = []\n",
    "for i in range(len(Lem_reviews)):\n",
    "    reviews_cleaned.append(' '.join(Lem_reviews[i]))\n",
    "\n",
    "df['Reviews'] = reviews_cleaned\n",
    "\n",
    "frequent_words(df['Reviews'], 20)"
   ]
  },
  {
   "cell_type": "markdown",
   "metadata": {},
   "source": [
    "# Visualization"
   ]
  },
  {
   "cell_type": "code",
   "execution_count": 17,
   "metadata": {},
   "outputs": [
    {
     "data": {
      "image/png": "[encoded data removed]",
      "text/plain": [
       "<Figure size 432x288 with 1 Axes>"
      ]
     },
     "metadata": {
      "needs_background": "light"
     },
     "output_type": "display_data"
    }
   ],
   "source": [
    "full_text = ' '.join(df['Review'])\n",
    "cloud_no_stopword = WordCloud(background_color='white', stopwords=stop_words).generate(full_text)\n",
    "plt.imshow(cloud_no_stopword, interpolation='bilinear')\n",
    "plt.axis('off')\n",
    "plt.show()"
   ]
  },
  {
   "cell_type": "markdown",
   "metadata": {},
   "source": [
    "# Topic Modeling - Overall Corpus"
   ]
  },
  {
   "cell_type": "markdown",
   "metadata": {},
   "source": [
    "overall_dictionary = corpora.Dictionary(Lem_reviews)\n",
    "\n",
    "#Converting reviews into a Document Term Matrix\n",
    "overall_doctermtx = [overall_dictionary.doc2bow(review) for review in Lem_reviews]\n",
    "\n",
    "LDA = gensim.models.ldamodel.LdaModel\n",
    "\n",
    "LDA_overall_Model = LDA(corpus=overall_doctermtx, id2word=overall_dictionary, num_topics=10, random_state=100,\n",
    "                chunksize=1000, passes=50)\n",
    "LDA_overall_Model.print_topics()"
   ]
  },
  {
   "cell_type": "markdown",
   "metadata": {},
   "source": [
    "# Coherence Score"
   ]
  },
  {
   "cell_type": "code",
   "execution_count": 19,
   "metadata": {},
   "outputs": [
    {
     "name": "stdout",
     "output_type": "stream",
     "text": [
      "Coherence Score:  0.38203600918024916\n"
     ]
    }
   ],
   "source": [
    "coherence_model_overall_lda = CoherenceModel(model=LDA_overall_Model, texts=Lem_reviews, dictionary=overall_dictionary, coherence='c_v')\n",
    "coherence_overall_lda = coherence_model_overall_lda.get_coherence()\n",
    "print('Coherence Score: ', coherence_overall_lda)"
   ]
  },
  {
   "cell_type": "markdown",
   "metadata": {},
   "source": [
    "# Perplexity Score"
   ]
  },
  {
   "cell_type": "code",
   "execution_count": 20,
   "metadata": {},
   "outputs": [
    {
     "name": "stdout",
     "output_type": "stream",
     "text": [
      "\n",
      "Perplexity:  -6.7311834074415335\n"
     ]
    }
   ],
   "source": [
    "print('\\nPerplexity: ', LDA_overall_Model.log_perplexity(overall_doctermtx))  # a measure of how good the model is. lower the better."
   ]
  },
  {
   "cell_type": "code",
   "execution_count": 24,
   "metadata": {},
   "outputs": [
    {
     "data": {
      "text/plain": [
       "[(0,\n",
       "  '0.029*\"good\" + 0.020*\"italian\" + 0.020*\"pizza\" + 0.014*\"item\" + 0.014*\"food\"'),\n",
       " (1,\n",
       "  '0.042*\"food\" + 0.032*\"good\" + 0.018*\"fresh\" + 0.018*\"italian\" + 0.011*\"selection\"'),\n",
       " (2,\n",
       "  '0.032*\"great\" + 0.029*\"italian\" + 0.024*\"sandwich\" + 0.020*\"selection\" + 0.019*\"place\"'),\n",
       " (3,\n",
       "  '0.042*\"food\" + 0.030*\"italian\" + 0.021*\"great\" + 0.018*\"selection\" + 0.015*\"store\"'),\n",
       " (4,\n",
       "  '0.027*\"food\" + 0.019*\"good\" + 0.019*\"store\" + 0.017*\"italian\" + 0.014*\"place\"'),\n",
       " (5,\n",
       "  '0.022*\"food\" + 0.021*\"place\" + 0.021*\"good\" + 0.019*\"sandwich\" + 0.018*\"italian\"'),\n",
       " (6,\n",
       "  '0.029*\"good\" + 0.025*\"food\" + 0.022*\"italian\" + 0.017*\"quality\" + 0.015*\"great\"')]"
      ]
     },
     "execution_count": 24,
     "metadata": {},
     "output_type": "execute_result"
    }
   ],
   "source": [
    "overall_dictionary = corpora.Dictionary(Lem_reviews)\n",
    "\n",
    "#Converting reviews into a Document Term Matrix\n",
    "overall_doctermtx = [overall_dictionary.doc2bow(review) for review in Lem_reviews]\n",
    "\n",
    "LDA = gensim.models.ldamodel.LdaModel\n",
    "\n",
    "LDA_overall_Model = LDA(corpus=overall_doctermtx, id2word=overall_dictionary, num_topics=7)\n",
    "LDA_overall_Model.print_topics( num_topics=7,num_words=5)"
   ]
  },
  {
   "cell_type": "code",
   "execution_count": null,
   "metadata": {},
   "outputs": [],
   "source": [
    "coherence_model_overall_lda = CoherenceModel(model=LDA_overall_Model, texts=Lem_reviews, dictionary=overall_dictionary, coherence='c_v')\n",
    "coherence_overall_lda = coherence_model_overall_lda.get_coherence()\n",
    "print('Coherence Score: ', coherence_overall_lda)"
   ]
  },
  {
   "cell_type": "code",
   "execution_count": 59,
   "metadata": {},
   "outputs": [
    {
     "name": "stdout",
     "output_type": "stream",
     "text": [
      "\n",
      "Perplexity:  -6.8054761248046525\n"
     ]
    }
   ],
   "source": [
    "print('\\nPerplexity: ', LDA_overall_Model.log_perplexity(overall_doctermtx))"
   ]
  },
  {
   "cell_type": "markdown",
   "metadata": {},
   "source": [
    "# C-Value Analysis for Number of Topics"
   ]
  },
  {
   "cell_type": "code",
   "execution_count": 60,
   "metadata": {},
   "outputs": [],
   "source": [
    "def compute_c_values(dictionary, corpus, texts, limit, start=2, step=1):\n",
    "    \"\"\"\n",
    "    Compute c_v coherence for various number of topics\n",
    "\n",
    "    Parameters:\n",
    "    ----------\n",
    "    dictionary : Gensim dictionary\n",
    "    corpus : Gensim corpus\n",
    "    texts : List of input texts\n",
    "    limit : Max num of topics\n",
    "\n",
    "    Returns:\n",
    "    -------\n",
    "    model_list : List of LDA topic models\n",
    "    coherence_values : Coherence values corresponding to the LDA model with respective number of topics\n",
    "    \"\"\"\n",
    "    coherence_values = []\n",
    "    model_list = []\n",
    "    for num_topics in range(start, limit, step):\n",
    "        model=LDA(corpus=corpus, id2word=dictionary, num_topics=num_topics,)\n",
    "        model_list.append(model)\n",
    "        coherencemodel = CoherenceModel(model=model, texts=texts, dictionary=dictionary, coherence='c_v')\n",
    "        coherence_values.append(coherencemodel.get_coherence())\n",
    "\n",
    "    return model_list, coherence_values"
   ]
  },
  {
   "cell_type": "code",
   "execution_count": 61,
   "metadata": {},
   "outputs": [
    {
     "data": {
      "text/plain": [
       "([<gensim.models.ldamodel.LdaModel at 0x24acaed94c0>,\n",
       "  <gensim.models.ldamodel.LdaModel at 0x24ac33ebcd0>,\n",
       "  <gensim.models.ldamodel.LdaModel at 0x24ac580e520>,\n",
       "  <gensim.models.ldamodel.LdaModel at 0x24ac3091820>,\n",
       "  <gensim.models.ldamodel.LdaModel at 0x24aa5f29be0>,\n",
       "  <gensim.models.ldamodel.LdaModel at 0x24ac33eb520>,\n",
       "  <gensim.models.ldamodel.LdaModel at 0x24acaed9ca0>,\n",
       "  <gensim.models.ldamodel.LdaModel at 0x24aca9163a0>,\n",
       "  <gensim.models.ldamodel.LdaModel at 0x24acaea7af0>,\n",
       "  <gensim.models.ldamodel.LdaModel at 0x24aca916190>,\n",
       "  <gensim.models.ldamodel.LdaModel at 0x24acaea79d0>,\n",
       "  <gensim.models.ldamodel.LdaModel at 0x24aca918550>,\n",
       "  <gensim.models.ldamodel.LdaModel at 0x24acaea7fd0>,\n",
       "  <gensim.models.ldamodel.LdaModel at 0x24aca918ac0>,\n",
       "  <gensim.models.ldamodel.LdaModel at 0x24ac6209130>,\n",
       "  <gensim.models.ldamodel.LdaModel at 0x24aca918cd0>,\n",
       "  <gensim.models.ldamodel.LdaModel at 0x24ac62092b0>,\n",
       "  <gensim.models.ldamodel.LdaModel at 0x24aca918bb0>,\n",
       "  <gensim.models.ldamodel.LdaModel at 0x24ac61d4bb0>,\n",
       "  <gensim.models.ldamodel.LdaModel at 0x24aca916ca0>,\n",
       "  <gensim.models.ldamodel.LdaModel at 0x24aca91e370>,\n",
       "  <gensim.models.ldamodel.LdaModel at 0x24aca9188e0>,\n",
       "  <gensim.models.ldamodel.LdaModel at 0x24ac333ffa0>,\n",
       "  <gensim.models.ldamodel.LdaModel at 0x24ac33bf670>,\n",
       "  <gensim.models.ldamodel.LdaModel at 0x24aca8714f0>,\n",
       "  <gensim.models.ldamodel.LdaModel at 0x24aca918370>,\n",
       "  <gensim.models.ldamodel.LdaModel at 0x24ac2e12e20>,\n",
       "  <gensim.models.ldamodel.LdaModel at 0x24aca9164c0>,\n",
       "  <gensim.models.ldamodel.LdaModel at 0x24aca91b6a0>,\n",
       "  <gensim.models.ldamodel.LdaModel at 0x24ab888d7f0>,\n",
       "  <gensim.models.ldamodel.LdaModel at 0x24ac5e6cf70>,\n",
       "  <gensim.models.ldamodel.LdaModel at 0x24aca916b80>,\n",
       "  <gensim.models.ldamodel.LdaModel at 0x24aca98cf10>,\n",
       "  <gensim.models.ldamodel.LdaModel at 0x24ac54645e0>,\n",
       "  <gensim.models.ldamodel.LdaModel at 0x24ac545a910>,\n",
       "  <gensim.models.ldamodel.LdaModel at 0x24ac545a8e0>,\n",
       "  <gensim.models.ldamodel.LdaModel at 0x24acaed9490>,\n",
       "  <gensim.models.ldamodel.LdaModel at 0x24aca976850>],\n",
       " [0.34453131193873254,\n",
       "  0.3846208353690494,\n",
       "  0.3601149704095168,\n",
       "  0.3917704535250087,\n",
       "  0.37196366061401626,\n",
       "  0.36520726889037736,\n",
       "  0.4001285587204979,\n",
       "  0.35565385251968495,\n",
       "  0.35986312863306635,\n",
       "  0.39370626676531956,\n",
       "  0.3762715166887129,\n",
       "  0.352067523551626,\n",
       "  0.35876087197596096,\n",
       "  0.35801997541837066,\n",
       "  0.3663982509854383,\n",
       "  0.35994450150162804,\n",
       "  0.3490868868847812,\n",
       "  0.3553190184626606,\n",
       "  0.35130218073760877,\n",
       "  0.3625760139186803,\n",
       "  0.3504690247216622,\n",
       "  0.3513328664575123,\n",
       "  0.3657852274090798,\n",
       "  0.3485824958712549,\n",
       "  0.3430423284695061,\n",
       "  0.3407943221279795,\n",
       "  0.34860215242158793,\n",
       "  0.349683446273753,\n",
       "  0.3461019024126824,\n",
       "  0.3556018148168542,\n",
       "  0.3505686975664484,\n",
       "  0.3578716234832588,\n",
       "  0.33554508289315144,\n",
       "  0.3432250066487687,\n",
       "  0.34724160924994396,\n",
       "  0.33240796196146954,\n",
       "  0.34318884725384574,\n",
       "  0.3447337789039221])"
      ]
     },
     "execution_count": 61,
     "metadata": {},
     "output_type": "execute_result"
    }
   ],
   "source": [
    "compute_c_values(overall_dictionary,overall_doctermtx,Lem_reviews,40)"
   ]
  },
  {
   "cell_type": "code",
   "execution_count": 85,
   "metadata": {},
   "outputs": [
    {
     "data": {
      "image/png": "[encoded data removed]",
      "text/plain": [
       "<Figure size 432x288 with 1 Axes>"
      ]
     },
     "metadata": {
      "needs_background": "light"
     },
     "output_type": "display_data"
    }
   ],
   "source": [
    "model_list, coherence_values = compute_c_values(dictionary=overall_dictionary, corpus=overall_doctermtx, texts=Lem_reviews, start=2, limit=40, step=6)\n",
    "# Show graph\n",
    "\n",
    "import matplotlib.pyplot as plt\n",
    "limit=40; start=2; step=6;\n",
    "x = range(start, limit, step)\n",
    "plt.plot(x, coherence_values)\n",
    "plt.xlabel(\"Num Topics\")\n",
    "plt.ylabel(\"Coherence score\")\n",
    "plt.legend((\"coherence_values\"), loc='best')\n",
    "plt.savefig('7_topics_overall.png')\n",
    "plt.show()\n"
   ]
  },
  {
   "cell_type": "markdown",
   "metadata": {},
   "source": [
    "# Yelp Reviews Analysis"
   ]
  },
  {
   "cell_type": "markdown",
   "metadata": {},
   "source": [
    "# Word Frequency"
   ]
  },
  {
   "cell_type": "code",
   "execution_count": 76,
   "metadata": {},
   "outputs": [],
   "source": [
    "# remove unwanted characters, numbers and symbols\n",
    "df_yelp['Review'] = df_yelp['Review'].str.replace(\"[^a-zA-Z#]\", \" \")"
   ]
  },
  {
   "cell_type": "code",
   "execution_count": 77,
   "metadata": {},
   "outputs": [],
   "source": [
    "# remove short words (length < 3)\n",
    "df_yelp['Review'] = df_yelp['Review'].apply(lambda x: ' '.join([w for w in x.split() if len(w)>2]))\n",
    "\n",
    "# remove stopwords from the text\n",
    "yelp_Reviews = [remove_stopwords(r.split()) for r in df_yelp['Review']]\n",
    "\n",
    "# make entire text lowercase\n",
    "yelp_Reviews = [r.lower() for r in yelp_Reviews]"
   ]
  },
  {
   "cell_type": "markdown",
   "metadata": {},
   "source": [
    "# Tokenization"
   ]
  },
  {
   "cell_type": "code",
   "execution_count": 78,
   "metadata": {},
   "outputs": [
    {
     "name": "stdout",
     "output_type": "stream",
     "text": [
      "['lifelong', 'resident', 'longterm', 'customer', 'spot', 'italian', 'goods', 'are', 'best', 'you', 'decide', 'our', 'family', 'happy', 'products', 'grocery', 'prepared', 'they', 'cheapest', 'quality', 'pretty', 'high', 'occasional', 'hiccup', 'consistency', 'currently', 'think', 'beloved', 'chicken', 'salad', 'ground', 'fine', 'top', 'area', 'italian', 'hoagie', 'just', 'pizza', 'since', 'become', 'available', 'location', 'thoroughly', 'impressed', 'the', 'crust', 'great', 'flavor', 'thin', 'nice', 'proportion', 'cheese', 'well', 'flavor', 'balance', 'sharpness', 'lightly', 'sweet', 'sauce', 'need', 'try', 'cheesesteak', 'next']\n"
     ]
    }
   ],
   "source": [
    "tokenized_yelp_Reviews = pd.Series(yelp_Reviews).apply(lambda x: x.split())\n",
    "print(tokenized_yelp_Reviews[1])"
   ]
  },
  {
   "cell_type": "markdown",
   "metadata": {},
   "source": [
    "# Lemmatization"
   ]
  },
  {
   "cell_type": "code",
   "execution_count": 79,
   "metadata": {},
   "outputs": [
    {
     "name": "stdout",
     "output_type": "stream",
     "text": [
      "['lifelong', 'resident', 'longterm', 'customer', 'spot', 'italian', 'good', 'good', 'family', 'happy', 'product', 'grocery', 'cheap', 'quality', 'high', 'occasional', 'hiccup', 'consistency', 'beloved', 'chicken', 'salad', 'ground', 'fine', 'top', 'area', 'italian', 'hoagie', 'pizza', 'available', 'location', 'crust', 'great', 'flavor', 'thin', 'nice', 'proportion', 'cheese', 'balance', 'sweet', 'sauce', 'need']\n"
     ]
    }
   ],
   "source": [
    "Lem_yelp_reviews = lemmatization(tokenized_yelp_Reviews)\n",
    "print(Lem_yelp_reviews[1])"
   ]
  },
  {
   "cell_type": "markdown",
   "metadata": {},
   "source": [
    "# Final Cleaning"
   ]
  },
  {
   "cell_type": "code",
   "execution_count": 80,
   "metadata": {},
   "outputs": [
    {
     "data": {
      "image/png": "[encoded data removed]",
      "text/plain": [
       "<Figure size 1440x360 with 1 Axes>"
      ]
     },
     "metadata": {
      "needs_background": "light"
     },
     "output_type": "display_data"
    }
   ],
   "source": [
    "yelp_reviews_cleaned = []\n",
    "for i in range(len(Lem_yelp_reviews)):\n",
    "    yelp_reviews_cleaned.append(' '.join(Lem_yelp_reviews[i]))\n",
    "\n",
    "df_yelp['Reviews'] = yelp_reviews_cleaned\n",
    "\n",
    "frequent_words(df_yelp['Reviews'], 20)"
   ]
  },
  {
   "cell_type": "markdown",
   "metadata": {},
   "source": [
    "# Topic Modeling"
   ]
  },
  {
   "cell_type": "code",
   "execution_count": 41,
   "metadata": {},
   "outputs": [
    {
     "data": {
      "text/plain": [
       "[(0,\n",
       "  '0.029*\"sandwich\" + 0.023*\"italian\" + 0.022*\"meat\" + 0.019*\"great\" + 0.016*\"fresh\" + 0.016*\"food\" + 0.014*\"market\" + 0.014*\"lunch\" + 0.014*\"good\" + 0.012*\"hot\"'),\n",
       " (1,\n",
       "  '0.032*\"good\" + 0.031*\"sandwich\" + 0.019*\"store\" + 0.017*\"order\" + 0.016*\"extra\" + 0.015*\"staff\" + 0.014*\"hoagie\" + 0.014*\"quality\" + 0.013*\"great\" + 0.011*\"warminster\"'),\n",
       " (2,\n",
       "  '0.037*\"food\" + 0.024*\"place\" + 0.019*\"time\" + 0.014*\"good\" + 0.014*\"item\" + 0.014*\"italian\" + 0.013*\"great\" + 0.012*\"staff\" + 0.012*\"market\" + 0.011*\"new\"'),\n",
       " (3,\n",
       "  '0.021*\"italian\" + 0.019*\"place\" + 0.018*\"good\" + 0.016*\"great\" + 0.015*\"food\" + 0.015*\"homemade\" + 0.014*\"sandwich\" + 0.014*\"tomato\" + 0.013*\"meat\" + 0.013*\"pie\"'),\n",
       " (4,\n",
       "  '0.026*\"good\" + 0.024*\"time\" + 0.020*\"meat\" + 0.016*\"food\" + 0.014*\"store\" + 0.014*\"place\" + 0.009*\"love\" + 0.009*\"chicken\" + 0.009*\"customer\" + 0.009*\"bad\"'),\n",
       " (5,\n",
       "  '0.035*\"good\" + 0.032*\"fresh\" + 0.014*\"food\" + 0.012*\"homemade\" + 0.011*\"italian\" + 0.008*\"store\" + 0.008*\"choice\" + 0.008*\"time\" + 0.008*\"ground\" + 0.007*\"altomonte\"'),\n",
       " (6,\n",
       "  '0.035*\"italian\" + 0.022*\"great\" + 0.021*\"food\" + 0.015*\"deli\" + 0.015*\"sandwich\" + 0.013*\"steak\" + 0.010*\"customer\" + 0.010*\"sauce\" + 0.010*\"hot\" + 0.010*\"order\"'),\n",
       " (7,\n",
       "  '0.017*\"selection\" + 0.016*\"food\" + 0.015*\"store\" + 0.014*\"deli\" + 0.014*\"good\" + 0.012*\"item\" + 0.011*\"italian\" + 0.011*\"pasta\" + 0.010*\"great\" + 0.009*\"market\"'),\n",
       " (8,\n",
       "  '0.033*\"italian\" + 0.020*\"food\" + 0.019*\"store\" + 0.016*\"pizza\" + 0.012*\"cheese\" + 0.012*\"selection\" + 0.010*\"thing\" + 0.010*\"product\" + 0.010*\"many\" + 0.009*\"authentic\"'),\n",
       " (9,\n",
       "  '0.028*\"store\" + 0.018*\"good\" + 0.017*\"meat\" + 0.013*\"roll\" + 0.013*\"sandwich\" + 0.012*\"fresh\" + 0.012*\"food\" + 0.011*\"year\" + 0.011*\"italian\" + 0.011*\"time\"')]"
      ]
     },
     "execution_count": 41,
     "metadata": {},
     "output_type": "execute_result"
    }
   ],
   "source": [
    "yelp_dictionary = corpora.Dictionary(Lem_yelp_reviews)\n",
    "\n",
    "#Converting reviews into a Document Term Matrix\n",
    "yelp_doctermtx = [yelp_dictionary.doc2bow(review) for review in Lem_yelp_reviews]\n",
    "\n",
    "LDA = gensim.models.ldamodel.LdaModel\n",
    "\n",
    "LDA_Yelp_Model = LDA(corpus=yelp_doctermtx, id2word=yelp_dictionary, num_topics=10, random_state=100,\n",
    "                chunksize=1000, passes=50)\n",
    "LDA_Yelp_Model.print_topics()"
   ]
  },
  {
   "cell_type": "markdown",
   "metadata": {},
   "source": [
    "Topic coherence evaluates a single topic by measuring the degree of semantic similarity between high scoring words in the topic. A good model will generate topics with high topic coherence scores."
   ]
  },
  {
   "cell_type": "code",
   "execution_count": 26,
   "metadata": {},
   "outputs": [
    {
     "name": "stdout",
     "output_type": "stream",
     "text": [
      "Coherence Score:  0.3475713593465577\n"
     ]
    }
   ],
   "source": [
    "coherence_model_yelp_lda = CoherenceModel(model=LDA_Yelp_Model, texts=Lem_yelp_reviews, dictionary=yelp_dictionary, coherence='c_v')\n",
    "coherence_yelp_lda = coherence_model_yelp_lda.get_coherence()\n",
    "print('Coherence Score: ', coherence_yelp_lda)"
   ]
  },
  {
   "cell_type": "markdown",
   "metadata": {},
   "source": [
    "# TripAdvisor Reviews Analysis"
   ]
  },
  {
   "cell_type": "code",
   "execution_count": 42,
   "metadata": {},
   "outputs": [
    {
     "name": "stdout",
     "output_type": "stream",
     "text": [
      "Number of Each Rating for the TripAdvisor Reviews\n"
     ]
    },
    {
     "data": {
      "text/plain": [
       "5    168\n",
       "4     56\n",
       "3     19\n",
       "2      6\n",
       "1      4\n",
       "Name: Rating, dtype: int64"
      ]
     },
     "execution_count": 42,
     "metadata": {},
     "output_type": "execute_result"
    }
   ],
   "source": [
    "print(\"Number of Each Rating for the TripAdvisor Reviews\")\n",
    "df_TA['Rating'].value_counts()"
   ]
  },
  {
   "cell_type": "code",
   "execution_count": 43,
   "metadata": {},
   "outputs": [
    {
     "data": {
      "image/png": "[encoded data removed]",
      "text/plain": [
       "<Figure size 432x288 with 1 Axes>"
      ]
     },
     "metadata": {
      "needs_background": "light"
     },
     "output_type": "display_data"
    }
   ],
   "source": [
    "ax = sns.barplot(data=df_TA, x='Rating', y='Rating', estimator=lambda x: len(x) / len(df_TA) * 100)\n",
    "ax.set(ylabel=\"Percent\")\n",
    "plt.title('Distribution of Customer Rating')\n",
    "plt.show()"
   ]
  },
  {
   "cell_type": "code",
   "execution_count": 84,
   "metadata": {},
   "outputs": [],
   "source": [
    "df_TA['Review'] = df_TA['Review'].str.replace(\"[^a-zA-Z#]\", \" \")"
   ]
  },
  {
   "cell_type": "code",
   "execution_count": 85,
   "metadata": {},
   "outputs": [],
   "source": [
    "# remove short words (length < 3)\n",
    "df_TA['Review'] = df_TA['Review'].apply(lambda x: ' '.join([w for w in x.split() if len(w)>2]))\n",
    "\n",
    "# remove stopwords from the text\n",
    "TA_Reviews = [remove_stopwords(r.split()) for r in df_TA['Review']]\n",
    "\n",
    "# make entire text lowercase\n",
    "TA_Reviews = [r.lower() for r in TA_Reviews]"
   ]
  },
  {
   "cell_type": "code",
   "execution_count": 86,
   "metadata": {},
   "outputs": [],
   "source": [
    "tokenized_TA_Reviews = pd.Series(TA_Reviews).apply(lambda x: x.split())"
   ]
  },
  {
   "cell_type": "code",
   "execution_count": 87,
   "metadata": {},
   "outputs": [],
   "source": [
    "lem_TA_reviews = lemmatization(tokenized_TA_Reviews)"
   ]
  },
  {
   "cell_type": "code",
   "execution_count": 117,
   "metadata": {},
   "outputs": [
    {
     "data": {
      "image/png": "[encoded data removed]",
      "text/plain": [
       "<Figure size 1440x360 with 1 Axes>"
      ]
     },
     "metadata": {
      "needs_background": "light"
     },
     "output_type": "display_data"
    }
   ],
   "source": [
    "TA_reviews_cleaned = []\n",
    "for i in range(len(Lem_TA_reviews)):\n",
    "    TA_reviews_cleaned.append(' '.join(Lem_TA_reviews[i]))\n",
    "\n",
    "df_TA['Reviews'] = TA_reviews_cleaned\n",
    "\n",
    "frequent_words(df_TA['Reviews'], 20)"
   ]
  },
  {
   "cell_type": "markdown",
   "metadata": {},
   "source": [
    "# Topic Modeling"
   ]
  },
  {
   "cell_type": "code",
   "execution_count": 118,
   "metadata": {},
   "outputs": [
    {
     "data": {
      "text/plain": [
       "[(0,\n",
       "  '0.034*\"food\" + 0.013*\"problem\" + 0.013*\"catering\" + 0.013*\"real\" + 0.013*\"laura\" + 0.012*\"product\" + 0.009*\"delicious\" + 0.009*\"homemade\" + 0.009*\"time\" + 0.009*\"spot\"'),\n",
       " (1,\n",
       "  '0.044*\"sandwich\" + 0.030*\"italian\" + 0.024*\"good\" + 0.024*\"food\" + 0.021*\"place\" + 0.019*\"order\" + 0.018*\"meat\" + 0.017*\"time\" + 0.017*\"lunch\" + 0.016*\"store\"'),\n",
       " (2,\n",
       "  '0.046*\"italian\" + 0.036*\"good\" + 0.034*\"food\" + 0.020*\"store\" + 0.018*\"great\" + 0.017*\"meal\" + 0.017*\"area\" + 0.016*\"place\" + 0.014*\"hoagie\" + 0.014*\"sandwich\"'),\n",
       " (3,\n",
       "  '0.043*\"food\" + 0.029*\"good\" + 0.025*\"fresh\" + 0.020*\"store\" + 0.019*\"great\" + 0.016*\"meat\" + 0.016*\"sandwich\" + 0.015*\"italian\" + 0.014*\"place\" + 0.014*\"love\"'),\n",
       " (4,\n",
       "  '0.018*\"location\" + 0.015*\"doylestown\" + 0.014*\"good\" + 0.013*\"pepper\" + 0.013*\"deli\" + 0.013*\"great\" + 0.012*\"store\" + 0.010*\"parking\" + 0.010*\"offering\" + 0.010*\"altomonte\"'),\n",
       " (5,\n",
       "  '0.033*\"store\" + 0.030*\"food\" + 0.030*\"italian\" + 0.019*\"big\" + 0.016*\"dinner\" + 0.014*\"place\" + 0.014*\"new\" + 0.010*\"thing\" + 0.010*\"item\" + 0.010*\"parking\"'),\n",
       " (6,\n",
       "  '0.030*\"food\" + 0.029*\"italian\" + 0.019*\"good\" + 0.016*\"fresh\" + 0.015*\"market\" + 0.013*\"day\" + 0.013*\"bread\" + 0.013*\"sandwich\" + 0.012*\"new\" + 0.011*\"item\"'),\n",
       " (7,\n",
       "  '0.038*\"italian\" + 0.029*\"food\" + 0.028*\"selection\" + 0.027*\"great\" + 0.019*\"market\" + 0.019*\"good\" + 0.016*\"place\" + 0.015*\"fresh\" + 0.015*\"meat\" + 0.014*\"sandwich\"'),\n",
       " (8,\n",
       "  '0.034*\"sandwich\" + 0.019*\"italian\" + 0.017*\"hoagie\" + 0.015*\"food\" + 0.014*\"store\" + 0.013*\"specialty\" + 0.011*\"new\" + 0.011*\"amazing\" + 0.011*\"item\" + 0.011*\"market\"'),\n",
       " (9,\n",
       "  '0.043*\"italian\" + 0.031*\"food\" + 0.028*\"good\" + 0.020*\"sandwich\" + 0.014*\"many\" + 0.014*\"specialty\" + 0.013*\"bakery\" + 0.013*\"item\" + 0.012*\"selection\" + 0.012*\"new\"')]"
      ]
     },
     "execution_count": 118,
     "metadata": {},
     "output_type": "execute_result"
    }
   ],
   "source": [
    "TA_dictionary = corpora.Dictionary(lem_TA_reviews)\n",
    "\n",
    "#Converting reviews into a Document Term Matrix\n",
    "TA_doctermtx = [TA_dictionary.doc2bow(review) for review in lem_TA_reviews]\n",
    "\n",
    "LDA = gensim.models.ldamodel.LdaModel\n",
    "\n",
    "lda_TA_Model = LDA(corpus=TA_doctermtx, id2word=TA_dictionary, num_topics=10, random_state=100,\n",
    "                chunksize=1000, passes=50)\n",
    "lda_TA_Model.print_topics()"
   ]
  },
  {
   "cell_type": "markdown",
   "metadata": {},
   "source": [
    "# Google Reviews Analysis"
   ]
  },
  {
   "cell_type": "code",
   "execution_count": 119,
   "metadata": {},
   "outputs": [
    {
     "data": {
      "text/plain": [
       "5    164\n",
       "4     18\n",
       "1     17\n",
       "2      9\n",
       "3      7\n",
       "Name: Rating, dtype: int64"
      ]
     },
     "execution_count": 119,
     "metadata": {},
     "output_type": "execute_result"
    }
   ],
   "source": [
    "df_GR['Rating'].value_counts()"
   ]
  },
  {
   "cell_type": "code",
   "execution_count": 120,
   "metadata": {},
   "outputs": [],
   "source": [
    "df_GR['Review'] = df_GR['Review'].str.replace(\"[^a-zA-Z#]\", \" \")"
   ]
  },
  {
   "cell_type": "code",
   "execution_count": 121,
   "metadata": {},
   "outputs": [],
   "source": [
    "# remove short words (length < 3)\n",
    "df_GR['Review'] = df_GR['Review'].apply(lambda x: ' '.join([w for w in x.split() if len(w)>2]))\n",
    "\n",
    "# remove stopwords from the text\n",
    "GR_Reviews = [remove_stopwords(r.split()) for r in df_GR['Review']]\n",
    "\n",
    "# make entire text lowercase\n",
    "GR_Reviews = [r.lower() for r in GR_Reviews]"
   ]
  },
  {
   "cell_type": "code",
   "execution_count": 122,
   "metadata": {},
   "outputs": [],
   "source": [
    "tokenized_GR_Reviews = pd.Series(GR_Reviews).apply(lambda x: x.split())"
   ]
  },
  {
   "cell_type": "code",
   "execution_count": 123,
   "metadata": {},
   "outputs": [],
   "source": [
    "lem_GR_reviews = lemmatization(tokenized_GR_Reviews)"
   ]
  },
  {
   "cell_type": "code",
   "execution_count": 124,
   "metadata": {},
   "outputs": [
    {
     "data": {
      "image/png": "[encoded data removed]",
      "text/plain": [
       "<Figure size 432x288 with 1 Axes>"
      ]
     },
     "metadata": {
      "needs_background": "light"
     },
     "output_type": "display_data"
    }
   ],
   "source": [
    "ax = sns.barplot(data=df_GR, x='Rating', y='Rating', estimator=lambda x: len(x) / len(df_GR) * 100)\n",
    "ax.set(ylabel=\"Percent\")\n",
    "plt.title('Distribution of Customer Rating')\n",
    "plt.show()"
   ]
  },
  {
   "cell_type": "code",
   "execution_count": 125,
   "metadata": {},
   "outputs": [],
   "source": [
    "df_GR['Review'] = df_GR['Review'].str.replace(\"[^a-zA-Z#]\", \" \")\n",
    "stop_words = stopwords.words('english') #specifying the stopwords\n",
    "\n",
    "#Function for removing stopwords\n",
    "\n",
    "def stopword_removal(review):\n",
    "    new_review = \" \".join([ i for i in review if i not in stop_words])\n",
    "    return new_review\n",
    "\n",
    "#Words with less than 3 letters are being considered not nessecary\n",
    "df_GR['Review'] = df_GR['Review'].apply(lambda x: ' '.join([w for w in x.split() if len(w)>2]))\n",
    "\n",
    "\n",
    "#Remove stopwords and make everything lowercase\n",
    "GR_Reviews = [stopword_removal(r.split()) for r in df_GR['Review']]\n",
    "GR_Reviews = [r.lower() for r in GR_Reviews]"
   ]
  },
  {
   "cell_type": "code",
   "execution_count": 126,
   "metadata": {},
   "outputs": [
    {
     "data": {
      "image/png": "[encoded data removed]",
      "text/plain": [
       "<Figure size 1440x360 with 1 Axes>"
      ]
     },
     "metadata": {
      "needs_background": "light"
     },
     "output_type": "display_data"
    }
   ],
   "source": [
    "GR_reviews_cleaned = []\n",
    "for i in range(len(lem_GR_reviews)):\n",
    "    GR_reviews_cleaned.append(' '.join(lem_GR_reviews[i]))\n",
    "\n",
    "df_GR['Reviews'] = GR_reviews_cleaned\n",
    "\n",
    "frequent_words(df_GR['Reviews'], 20)"
   ]
  },
  {
   "cell_type": "markdown",
   "metadata": {},
   "source": [
    "# Topic Modeling"
   ]
  },
  {
   "cell_type": "code",
   "execution_count": 128,
   "metadata": {},
   "outputs": [
    {
     "data": {
      "text/plain": [
       "[(0,\n",
       "  '0.060*\"pizza\" + 0.024*\"love\" + 0.022*\"customer\" + 0.020*\"store\" + 0.018*\"cheese\" + 0.018*\"sauce\" + 0.016*\"food\" + 0.015*\"great\" + 0.014*\"place\" + 0.013*\"people\"'),\n",
       " (1,\n",
       "  '0.042*\"place\" + 0.031*\"food\" + 0.017*\"pizza\" + 0.017*\"sandwich\" + 0.015*\"lot\" + 0.014*\"nice\" + 0.013*\"time\" + 0.012*\"service\" + 0.011*\"order\" + 0.011*\"employee\"'),\n",
       " (2,\n",
       "  '0.054*\"food\" + 0.028*\"amazing\" + 0.023*\"many\" + 0.019*\"italian\" + 0.018*\"dinner\" + 0.018*\"people\" + 0.015*\"place\" + 0.014*\"good\" + 0.014*\"clean\" + 0.013*\"time\"'),\n",
       " (3,\n",
       "  '0.023*\"food\" + 0.023*\"star\" + 0.017*\"area\" + 0.017*\"minute\" + 0.017*\"wine\" + 0.014*\"store\" + 0.012*\"staff\" + 0.012*\"bread\" + 0.012*\"mask\" + 0.012*\"pizza\"'),\n",
       " (4,\n",
       "  '0.028*\"salad\" + 0.022*\"excellent\" + 0.022*\"place\" + 0.015*\"good\" + 0.015*\"variety\" + 0.015*\"food\" + 0.015*\"bad\" + 0.015*\"glove\" + 0.015*\"worker\" + 0.008*\"fresh\"'),\n",
       " (5,\n",
       "  '0.104*\"great\" + 0.078*\"food\" + 0.053*\"selection\" + 0.027*\"place\" + 0.023*\"italian\" + 0.021*\"service\" + 0.020*\"fresh\" + 0.018*\"friendly\" + 0.018*\"price\" + 0.017*\"delicious\"'),\n",
       " (6,\n",
       "  '0.027*\"store\" + 0.027*\"word\" + 0.021*\"sandwich\" + 0.017*\"deli\" + 0.015*\"soup\" + 0.011*\"busy\" + 0.011*\"pizza\" + 0.011*\"customer\" + 0.011*\"minute\" + 0.011*\"first\"'),\n",
       " (7,\n",
       "  '0.037*\"time\" + 0.033*\"sandwich\" + 0.023*\"fresh\" + 0.021*\"bakery\" + 0.015*\"meat\" + 0.014*\"food\" + 0.014*\"order\" + 0.014*\"pasta\" + 0.014*\"location\" + 0.014*\"new\"'),\n",
       " (8,\n",
       "  '0.077*\"good\" + 0.075*\"italian\" + 0.036*\"market\" + 0.036*\"food\" + 0.032*\"store\" + 0.026*\"great\" + 0.023*\"nice\" + 0.017*\"authentic\" + 0.015*\"cheese\" + 0.015*\"fresh\"'),\n",
       " (9,\n",
       "  '0.027*\"bread\" + 0.027*\"sandwich\" + 0.027*\"time\" + 0.022*\"place\" + 0.016*\"piece\" + 0.016*\"hoagie\" + 0.013*\"chicken\" + 0.011*\"delicious\" + 0.011*\"good\" + 0.011*\"quality\"')]"
      ]
     },
     "execution_count": 128,
     "metadata": {},
     "output_type": "execute_result"
    }
   ],
   "source": [
    "GR_dictionary = corpora.Dictionary(lem_GR_reviews)\n",
    "\n",
    "#Converting reviews into a Document Term Matrix\n",
    "GR_doctermtx = [GR_dictionary.doc2bow(review) for review in lem_GR_reviews]\n",
    "\n",
    "LDA = gensim.models.ldamodel.LdaModel\n",
    "\n",
    "lda_GR_Model = LDA(corpus=GR_doctermtx, id2word=GR_dictionary, num_topics=10, random_state=100,\n",
    "                chunksize=1000, passes=50)\n",
    "lda_GR_Model.print_topics()"
   ]
  }
 ],
 "metadata": {
  "kernelspec": {
   "display_name": "Python 3",
   "language": "python",
   "name": "python3"
  },
  "language_info": {
   "codemirror_mode": {
    "name": "ipython",
    "version": 3
   },
   "file_extension": ".py",
   "mimetype": "text/x-python",
   "name": "python",
   "nbconvert_exporter": "python",
   "pygments_lexer": "ipython3",
   "version": "3.8.3"
  }
 },
 "nbformat": 4,
 "nbformat_minor": 4
}
